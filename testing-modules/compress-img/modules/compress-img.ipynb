{
 "cells": [
  {
   "cell_type": "code",
   "execution_count": 1,
   "metadata": {},
   "outputs": [],
   "source": [
    "from PIL import Image\n",
    "import glob\n",
    "import os"
   ]
  },
  {
   "cell_type": "code",
   "execution_count": 18,
   "metadata": {},
   "outputs": [
    {
     "name": "stdout",
     "output_type": "stream",
     "text": [
      "Compressed image saved as ./img/r13_鍾安慶Anching-compressed.jpg with quality=85\n",
      "Saved ./img/r13_鍾安慶Anching-600w.webp with size 600px width\n",
      "Saved ./img/r13_鍾安慶Anching-1200w.webp with size 1200px width\n",
      "Saved ./img/r13_鍾安慶Anching-2000w.webp with size 2000px width\n",
      "Removed intermediate compressed file: ./img/r13_鍾安慶Anching-compressed.jpg\n"
     ]
    }
   ],
   "source": [
    "# Function to compress an image (similar to TinyPNG)\n",
    "def compress_image(input_image_path, output_image_path, quality=85):\n",
    "    \"\"\"Compresses an image by reducing its quality\"\"\"\n",
    "    with Image.open(input_image_path) as img:\n",
    "        img.save(output_image_path, \"JPEG\", quality=quality, optimize=True)\n",
    "        print(f\"Compressed image saved as {output_image_path} with quality={quality}\")\n",
    "\n",
    "# Function to resize and convert an image to WebP\n",
    "def convert_to_webp(input_image_path, output_image_path, sizes):\n",
    "    \"\"\"Converts the image to WebP format in multiple sizes\"\"\"\n",
    "    with Image.open(input_image_path) as img:\n",
    "        for size in sizes:\n",
    "            # Resize the image while maintaining aspect ratio\n",
    "            img_resized = img.resize((size, int(size * img.height / img.width)))\n",
    "            # Save the resized image in WebP format\n",
    "            webp_output_path = f\"{output_image_path}-{size}w.webp\"\n",
    "            img_resized.save(webp_output_path, \"WEBP\", quality=95)\n",
    "            print(f\"Saved {webp_output_path} with size {size}px width\")\n",
    "\n",
    "# Function to compress, resize, and convert image to WebP\n",
    "def compress_and_convert(input_image_name, sizes, compression_quality=85):\n",
    "    # Get the input image path\n",
    "    input_image_path = glob.glob(f\"{input_image_name}.*\")[0]\n",
    "\n",
    "    # Compress the original image\n",
    "    compressed_image_path = f\"{input_image_name}-compressed.jpg\"\n",
    "    compress_image(input_image_path, compressed_image_path, quality=compression_quality)\n",
    "    \n",
    "    # Convert compressed image to WebP in multiple sizes\n",
    "    convert_to_webp(compressed_image_path, input_image_name, sizes)\n",
    "    \n",
    "    # Optional: remove the intermediate compressed image (cleanup)\n",
    "    if os.path.exists(compressed_image_path):\n",
    "        os.remove(compressed_image_path)\n",
    "        print(f\"Removed intermediate compressed file: {compressed_image_path}\")\n",
    "\n",
    "# Input image path\n",
    "input_image_name = \"./img/r13_鍾安慶Anching\"  # Replace with your image file path\n",
    "\n",
    "# Define desired sizes for WebP images (widths)\n",
    "ppl_img_sizes = [200, 400, 800]\n",
    "glf_img_sizes = [200, 400, 800, 1200, 1600]\n",
    "\n",
    "# Compress, resize, and convert the image\n",
    "compress_and_convert(input_image_name, ppl_img_sizes, compression_quality=85)\n"
   ]
  },
  {
   "cell_type": "code",
   "execution_count": 4,
   "metadata": {},
   "outputs": [
    {
     "data": {
      "text/plain": [
       "['group-life', 'modules']"
      ]
     },
     "execution_count": 4,
     "metadata": {},
     "output_type": "execute_result"
    }
   ],
   "source": [
    "os.listdir('../')"
   ]
  }
 ],
 "metadata": {
  "kernelspec": {
   "display_name": "Python 3",
   "language": "python",
   "name": "python3"
  },
  "language_info": {
   "codemirror_mode": {
    "name": "ipython",
    "version": 3
   },
   "file_extension": ".py",
   "mimetype": "text/x-python",
   "name": "python",
   "nbconvert_exporter": "python",
   "pygments_lexer": "ipython3",
   "version": "3.12.0"
  }
 },
 "nbformat": 4,
 "nbformat_minor": 2
}
