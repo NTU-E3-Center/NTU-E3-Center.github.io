{
 "cells": [
  {
   "cell_type": "code",
   "execution_count": 6,
   "metadata": {},
   "outputs": [],
   "source": [
    "from PIL import Image\n",
    "import glob\n",
    "import os"
   ]
  },
  {
   "cell_type": "code",
   "execution_count": 15,
   "metadata": {},
   "outputs": [
    {
     "name": "stdout",
     "output_type": "stream",
     "text": [
      "找到檔案: ./img\\r13_鍾安慶Anching.jpg\n",
      "找到檔案: ./img\\r13_鍾安慶Anching.png\n"
     ]
    }
   ],
   "source": [
    "# 定義檔案名稱（無副檔名）\n",
    "file_name = './img/r13_鍾安慶Anching'\n",
    "\n",
    "# 使用 glob 模糊匹配檔案，不限制副檔名\n",
    "file_path = f\"{file_name}.*\"\n",
    "matched_files = glob.glob(file_path)\n",
    "\n",
    "if matched_files:\n",
    "    for file in matched_files:\n",
    "        print(f\"找到檔案: {file}\")\n",
    "    Image.open(matched_files[0]).show()\n",
    "else:\n",
    "    print(\"找不到符合的檔案\")"
   ]
  },
  {
   "cell_type": "code",
   "execution_count": 18,
   "metadata": {},
   "outputs": [
    {
     "name": "stdout",
     "output_type": "stream",
     "text": [
      "Compressed image saved as ./img/r13_鍾安慶Anching-compressed.jpg with quality=85\n",
      "Saved ./img/r13_鍾安慶Anching-600w.webp with size 600px width\n",
      "Saved ./img/r13_鍾安慶Anching-1200w.webp with size 1200px width\n",
      "Saved ./img/r13_鍾安慶Anching-2000w.webp with size 2000px width\n",
      "Removed intermediate compressed file: ./img/r13_鍾安慶Anching-compressed.jpg\n"
     ]
    }
   ],
   "source": [
    "# Function to compress an image (similar to TinyPNG)\n",
    "def compress_image(input_image_path, output_image_path, quality=85):\n",
    "    \"\"\"Compresses an image by reducing its quality\"\"\"\n",
    "    with Image.open(input_image_path) as img:\n",
    "        img.save(output_image_path, \"JPEG\", quality=quality, optimize=True)\n",
    "        print(f\"Compressed image saved as {output_image_path} with quality={quality}\")\n",
    "\n",
    "# Function to resize and convert an image to WebP\n",
    "def convert_to_webp(input_image_path, output_image_path, sizes):\n",
    "    \"\"\"Converts the image to WebP format in multiple sizes\"\"\"\n",
    "    with Image.open(input_image_path) as img:\n",
    "        for size in sizes:\n",
    "            # Resize the image while maintaining aspect ratio\n",
    "            img_resized = img.resize((size, int(size * img.height / img.width)))\n",
    "            # Save the resized image in WebP format\n",
    "            webp_output_path = f\"{output_image_path}-{size}w.webp\"\n",
    "            img_resized.save(webp_output_path, \"WEBP\", quality=95)\n",
    "            print(f\"Saved {webp_output_path} with size {size}px width\")\n",
    "\n",
    "# Function to compress, resize, and convert image to WebP\n",
    "def compress_and_convert(input_image_name, sizes, compression_quality=85):\n",
    "    # Get the input image path\n",
    "    input_image_path = glob.glob(f\"{input_image_name}.*\")[0]\n",
    "\n",
    "    # Compress the original image\n",
    "    compressed_image_path = f\"{input_image_name}-compressed.jpg\"\n",
    "    compress_image(input_image_path, compressed_image_path, quality=compression_quality)\n",
    "    \n",
    "    # Convert compressed image to WebP in multiple sizes\n",
    "    convert_to_webp(compressed_image_path, input_image_name, sizes)\n",
    "    \n",
    "    # Optional: remove the intermediate compressed image (cleanup)\n",
    "    if os.path.exists(compressed_image_path):\n",
    "        os.remove(compressed_image_path)\n",
    "        print(f\"Removed intermediate compressed file: {compressed_image_path}\")\n",
    "\n",
    "# Input image path\n",
    "input_image_name = \"./img/r13_鍾安慶Anching\"  # Replace with your image file path\n",
    "\n",
    "# Define desired sizes for WebP images (widths)\n",
    "ppl_img_sizes = [200, 400, 800]\n",
    "glf_img_sizes = [200, 400, 800, 1200, 1600]\n",
    "\n",
    "# Compress, resize, and convert the image\n",
    "compress_and_convert(input_image_name, ppl_img_sizes, compression_quality=85)\n"
   ]
  }
 ],
 "metadata": {
  "kernelspec": {
   "display_name": "Python 3",
   "language": "python",
   "name": "python3"
  },
  "language_info": {
   "codemirror_mode": {
    "name": "ipython",
    "version": 3
   },
   "file_extension": ".py",
   "mimetype": "text/x-python",
   "name": "python",
   "nbconvert_exporter": "python",
   "pygments_lexer": "ipython3",
   "version": "3.11.5"
  }
 },
 "nbformat": 4,
 "nbformat_minor": 2
}
