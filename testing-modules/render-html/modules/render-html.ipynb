{
 "cells": [
  {
   "cell_type": "code",
   "execution_count": 23,
   "metadata": {},
   "outputs": [],
   "source": [
    "from jinja2 import Environment, FileSystemLoader\n",
    "import json\n",
    "\n",
    "# Load JSON data\n",
    "with open('../src/new.json', encoding='utf-8') as f:\n",
    "    newsList = json.load(f)"
   ]
  },
  {
   "cell_type": "code",
   "execution_count": 49,
   "metadata": {},
   "outputs": [],
   "source": [
    "# Set up Jinja2 environment\n",
    "env = Environment(loader=FileSystemLoader('./templates'))\n",
    "template = env.get_template('more.html')\n",
    "\n",
    "# Render the template with multiple variables\n",
    "newsHtml = template.render(\n",
    "    newsList=newsList,\n",
    "    # title='News'\n",
    ")\n",
    "\n",
    "with open('../news/index.html', 'w', encoding='utf-8') as f:\n",
    "    f.write(newsHtml)"
   ]
  }
 ],
 "metadata": {
  "kernelspec": {
   "display_name": "Python 3",
   "language": "python",
   "name": "python3"
  },
  "language_info": {
   "codemirror_mode": {
    "name": "ipython",
    "version": 3
   },
   "file_extension": ".py",
   "mimetype": "text/x-python",
   "name": "python",
   "nbconvert_exporter": "python",
   "pygments_lexer": "ipython3",
   "version": "3.11.5"
  }
 },
 "nbformat": 4,
 "nbformat_minor": 2
}
