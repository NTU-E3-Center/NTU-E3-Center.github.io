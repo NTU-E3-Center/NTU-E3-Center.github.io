{
 "cells": [
  {
   "cell_type": "code",
   "execution_count": 2,
   "metadata": {},
   "outputs": [
    {
     "name": "stdout",
     "output_type": "stream",
     "text": [
      "M 157.14,55.39000000000001 L 157.14,54.440000000000005 C 157.14,46.160000000000004 150.42,39.440000000000005 142.14,39.440000000000005 L 117.14,39.440000000000005 C 108.86,39.440000000000005 102.14,46.160000000000004 102.14,54.440000000000005 L 102.14,69.54\n"
     ]
    }
   ],
   "source": [
    "from svgpathtools import parse_path\n",
    "\n",
    "path = 'M102.14,69.54v-15.1c0,-8.28,6.72,-15,15,-15h25c8.28,0,15,6.72,15,15v0.95'\n",
    "\n",
    "print(parse_path(path).reversed().d())"
   ]
  }
 ],
 "metadata": {
  "kernelspec": {
   "display_name": "Python 3",
   "language": "python",
   "name": "python3"
  },
  "language_info": {
   "codemirror_mode": {
    "name": "ipython",
    "version": 3
   },
   "file_extension": ".py",
   "mimetype": "text/x-python",
   "name": "python",
   "nbconvert_exporter": "python",
   "pygments_lexer": "ipython3",
   "version": "3.11.5"
  }
 },
 "nbformat": 4,
 "nbformat_minor": 2
}
